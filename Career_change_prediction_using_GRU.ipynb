{
  "nbformat": 4,
  "nbformat_minor": 0,
  "metadata": {
    "colab": {
      "provenance": []
    },
    "kernelspec": {
      "name": "python3",
      "display_name": "Python 3"
    },
    "language_info": {
      "name": "python"
    }
  },
  "cells": [
    {
      "cell_type": "code",
      "execution_count": 1,
      "metadata": {
        "id": "mnPE6dPQdqUX"
      },
      "outputs": [],
      "source": [
        "import torch\n",
        "import torch.nn as nn\n",
        "import torch.optim as optim\n",
        "from sklearn.preprocessing import MinMaxScaler\n",
        "from sklearn.model_selection import train_test_split\n",
        "from sklearn.metrics import accuracy_score, precision_score, recall_score, f1_score, confusion_matrix, ConfusionMatrixDisplay\n",
        "import pandas as pd\n",
        "import numpy as np\n",
        "import matplotlib.pyplot as plt"
      ]
    },
    {
      "cell_type": "code",
      "source": [
        "from google.colab import files\n",
        "uploaded = files.upload()\n",
        "\n",
        "df = pd.read_csv('career_change_prediction_dataset.csv')"
      ],
      "metadata": {
        "colab": {
          "base_uri": "https://localhost:8080/",
          "height": 73
        },
        "id": "fC5xjCfVeqEd",
        "outputId": "649f2f12-f43f-4402-bf9c-fcafb0121cf2"
      },
      "execution_count": 2,
      "outputs": [
        {
          "output_type": "display_data",
          "data": {
            "text/plain": [
              "<IPython.core.display.HTML object>"
            ],
            "text/html": [
              "\n",
              "     <input type=\"file\" id=\"files-9928df8d-1f61-4453-bd30-dda8c67359d5\" name=\"files[]\" multiple disabled\n",
              "        style=\"border:none\" />\n",
              "     <output id=\"result-9928df8d-1f61-4453-bd30-dda8c67359d5\">\n",
              "      Upload widget is only available when the cell has been executed in the\n",
              "      current browser session. Please rerun this cell to enable.\n",
              "      </output>\n",
              "      <script>// Copyright 2017 Google LLC\n",
              "//\n",
              "// Licensed under the Apache License, Version 2.0 (the \"License\");\n",
              "// you may not use this file except in compliance with the License.\n",
              "// You may obtain a copy of the License at\n",
              "//\n",
              "//      http://www.apache.org/licenses/LICENSE-2.0\n",
              "//\n",
              "// Unless required by applicable law or agreed to in writing, software\n",
              "// distributed under the License is distributed on an \"AS IS\" BASIS,\n",
              "// WITHOUT WARRANTIES OR CONDITIONS OF ANY KIND, either express or implied.\n",
              "// See the License for the specific language governing permissions and\n",
              "// limitations under the License.\n",
              "\n",
              "/**\n",
              " * @fileoverview Helpers for google.colab Python module.\n",
              " */\n",
              "(function(scope) {\n",
              "function span(text, styleAttributes = {}) {\n",
              "  const element = document.createElement('span');\n",
              "  element.textContent = text;\n",
              "  for (const key of Object.keys(styleAttributes)) {\n",
              "    element.style[key] = styleAttributes[key];\n",
              "  }\n",
              "  return element;\n",
              "}\n",
              "\n",
              "// Max number of bytes which will be uploaded at a time.\n",
              "const MAX_PAYLOAD_SIZE = 100 * 1024;\n",
              "\n",
              "function _uploadFiles(inputId, outputId) {\n",
              "  const steps = uploadFilesStep(inputId, outputId);\n",
              "  const outputElement = document.getElementById(outputId);\n",
              "  // Cache steps on the outputElement to make it available for the next call\n",
              "  // to uploadFilesContinue from Python.\n",
              "  outputElement.steps = steps;\n",
              "\n",
              "  return _uploadFilesContinue(outputId);\n",
              "}\n",
              "\n",
              "// This is roughly an async generator (not supported in the browser yet),\n",
              "// where there are multiple asynchronous steps and the Python side is going\n",
              "// to poll for completion of each step.\n",
              "// This uses a Promise to block the python side on completion of each step,\n",
              "// then passes the result of the previous step as the input to the next step.\n",
              "function _uploadFilesContinue(outputId) {\n",
              "  const outputElement = document.getElementById(outputId);\n",
              "  const steps = outputElement.steps;\n",
              "\n",
              "  const next = steps.next(outputElement.lastPromiseValue);\n",
              "  return Promise.resolve(next.value.promise).then((value) => {\n",
              "    // Cache the last promise value to make it available to the next\n",
              "    // step of the generator.\n",
              "    outputElement.lastPromiseValue = value;\n",
              "    return next.value.response;\n",
              "  });\n",
              "}\n",
              "\n",
              "/**\n",
              " * Generator function which is called between each async step of the upload\n",
              " * process.\n",
              " * @param {string} inputId Element ID of the input file picker element.\n",
              " * @param {string} outputId Element ID of the output display.\n",
              " * @return {!Iterable<!Object>} Iterable of next steps.\n",
              " */\n",
              "function* uploadFilesStep(inputId, outputId) {\n",
              "  const inputElement = document.getElementById(inputId);\n",
              "  inputElement.disabled = false;\n",
              "\n",
              "  const outputElement = document.getElementById(outputId);\n",
              "  outputElement.innerHTML = '';\n",
              "\n",
              "  const pickedPromise = new Promise((resolve) => {\n",
              "    inputElement.addEventListener('change', (e) => {\n",
              "      resolve(e.target.files);\n",
              "    });\n",
              "  });\n",
              "\n",
              "  const cancel = document.createElement('button');\n",
              "  inputElement.parentElement.appendChild(cancel);\n",
              "  cancel.textContent = 'Cancel upload';\n",
              "  const cancelPromise = new Promise((resolve) => {\n",
              "    cancel.onclick = () => {\n",
              "      resolve(null);\n",
              "    };\n",
              "  });\n",
              "\n",
              "  // Wait for the user to pick the files.\n",
              "  const files = yield {\n",
              "    promise: Promise.race([pickedPromise, cancelPromise]),\n",
              "    response: {\n",
              "      action: 'starting',\n",
              "    }\n",
              "  };\n",
              "\n",
              "  cancel.remove();\n",
              "\n",
              "  // Disable the input element since further picks are not allowed.\n",
              "  inputElement.disabled = true;\n",
              "\n",
              "  if (!files) {\n",
              "    return {\n",
              "      response: {\n",
              "        action: 'complete',\n",
              "      }\n",
              "    };\n",
              "  }\n",
              "\n",
              "  for (const file of files) {\n",
              "    const li = document.createElement('li');\n",
              "    li.append(span(file.name, {fontWeight: 'bold'}));\n",
              "    li.append(span(\n",
              "        `(${file.type || 'n/a'}) - ${file.size} bytes, ` +\n",
              "        `last modified: ${\n",
              "            file.lastModifiedDate ? file.lastModifiedDate.toLocaleDateString() :\n",
              "                                    'n/a'} - `));\n",
              "    const percent = span('0% done');\n",
              "    li.appendChild(percent);\n",
              "\n",
              "    outputElement.appendChild(li);\n",
              "\n",
              "    const fileDataPromise = new Promise((resolve) => {\n",
              "      const reader = new FileReader();\n",
              "      reader.onload = (e) => {\n",
              "        resolve(e.target.result);\n",
              "      };\n",
              "      reader.readAsArrayBuffer(file);\n",
              "    });\n",
              "    // Wait for the data to be ready.\n",
              "    let fileData = yield {\n",
              "      promise: fileDataPromise,\n",
              "      response: {\n",
              "        action: 'continue',\n",
              "      }\n",
              "    };\n",
              "\n",
              "    // Use a chunked sending to avoid message size limits. See b/62115660.\n",
              "    let position = 0;\n",
              "    do {\n",
              "      const length = Math.min(fileData.byteLength - position, MAX_PAYLOAD_SIZE);\n",
              "      const chunk = new Uint8Array(fileData, position, length);\n",
              "      position += length;\n",
              "\n",
              "      const base64 = btoa(String.fromCharCode.apply(null, chunk));\n",
              "      yield {\n",
              "        response: {\n",
              "          action: 'append',\n",
              "          file: file.name,\n",
              "          data: base64,\n",
              "        },\n",
              "      };\n",
              "\n",
              "      let percentDone = fileData.byteLength === 0 ?\n",
              "          100 :\n",
              "          Math.round((position / fileData.byteLength) * 100);\n",
              "      percent.textContent = `${percentDone}% done`;\n",
              "\n",
              "    } while (position < fileData.byteLength);\n",
              "  }\n",
              "\n",
              "  // All done.\n",
              "  yield {\n",
              "    response: {\n",
              "      action: 'complete',\n",
              "    }\n",
              "  };\n",
              "}\n",
              "\n",
              "scope.google = scope.google || {};\n",
              "scope.google.colab = scope.google.colab || {};\n",
              "scope.google.colab._files = {\n",
              "  _uploadFiles,\n",
              "  _uploadFilesContinue,\n",
              "};\n",
              "})(self);\n",
              "</script> "
            ]
          },
          "metadata": {}
        },
        {
          "output_type": "stream",
          "name": "stdout",
          "text": [
            "Saving career_change_prediction_dataset.csv to career_change_prediction_dataset.csv\n"
          ]
        }
      ]
    },
    {
      "cell_type": "code",
      "source": [
        "# Drop unnecessary columns (if any)\n",
        "\n",
        "# Display unique values in target column (debugging)\n",
        "print(\"Unique values in target column:\")\n",
        "print(df['Likely to Change Occupation'].unique())\n"
      ],
      "metadata": {
        "colab": {
          "base_uri": "https://localhost:8080/"
        },
        "id": "qZVEJQBgewxJ",
        "outputId": "9db6f567-b339-4547-c1c3-d3bfb62b1649"
      },
      "execution_count": 3,
      "outputs": [
        {
          "output_type": "stream",
          "name": "stdout",
          "text": [
            "Unique values in target column:\n",
            "[0 1]\n"
          ]
        }
      ]
    },
    {
      "cell_type": "code",
      "source": [
        "# Ensure target column is integer type\n",
        "y = df['Likely to Change Occupation'].astype('int64').values\n",
        "X = df.drop(columns=['Likely to Change Occupation']).copy()"
      ],
      "metadata": {
        "id": "8zjwSv09e0T7"
      },
      "execution_count": 4,
      "outputs": []
    },
    {
      "cell_type": "code",
      "source": [
        "# Separate categorical and numerical columns\n",
        "categorical_cols = X.select_dtypes(include='object').columns.tolist()\n",
        "numerical_cols = X.select_dtypes(include=['int64', 'float64']).columns.tolist()"
      ],
      "metadata": {
        "id": "fOuwsGHLe14Q"
      },
      "execution_count": 5,
      "outputs": []
    },
    {
      "cell_type": "code",
      "source": [
        "# One-hot encode categorical\n",
        "X_encoded = pd.get_dummies(X, columns=categorical_cols)"
      ],
      "metadata": {
        "id": "89-MUeGNe37j"
      },
      "execution_count": 6,
      "outputs": []
    },
    {
      "cell_type": "code",
      "source": [
        "# Normalize numerical data\n",
        "scaler = MinMaxScaler()\n",
        "X_encoded[numerical_cols] = scaler.fit_transform(X_encoded[numerical_cols])"
      ],
      "metadata": {
        "id": "Mmo7bgkFe6EB"
      },
      "execution_count": 7,
      "outputs": []
    },
    {
      "cell_type": "code",
      "source": [
        "# Convert to numpy array\n",
        "X = X_encoded.astype('float32').values"
      ],
      "metadata": {
        "id": "Qj_1eFOBe7rd"
      },
      "execution_count": 8,
      "outputs": []
    },
    {
      "cell_type": "code",
      "source": [
        "# Split data for federated learning\n",
        "num_clients = 5\n",
        "client_datasets = [(torch.tensor(X_split, dtype=torch.float32).unsqueeze(1), torch.tensor(y_split, dtype=torch.long))\n",
        "                   for X_split, y_split in zip(np.array_split(X, num_clients), np.array_split(y, num_clients))]"
      ],
      "metadata": {
        "id": "3lR-9h5Qe8fB"
      },
      "execution_count": 9,
      "outputs": []
    },
    {
      "cell_type": "code",
      "source": [
        "# GRU Model\n",
        "class GRUModel(nn.Module):\n",
        "    def __init__(self, input_dim, num_classes=2):\n",
        "        super(GRUModel, self).__init__()\n",
        "        self.gru = nn.GRU(input_dim, 128, batch_first=True, dropout=0.3, num_layers=2)\n",
        "        self.fc1 = nn.Linear(128, 64)\n",
        "        self.dropout = nn.Dropout(0.3)\n",
        "        self.fc2 = nn.Linear(64, num_classes)\n",
        "\n",
        "    def forward(self, x):\n",
        "        gru_out, _ = self.gru(x)\n",
        "        x = gru_out[:, -1, :]\n",
        "        x = torch.relu(self.fc1(x))\n",
        "        x = self.dropout(x)\n",
        "        return self.fc2(x)"
      ],
      "metadata": {
        "id": "QlL3cYALe-Tq"
      },
      "execution_count": 10,
      "outputs": []
    },
    {
      "cell_type": "code",
      "source": [
        "# Federated Training Preparation\n",
        "models = [GRUModel(X.shape[1], num_classes=2) for _ in range(num_clients)]\n",
        "optimizers = [optim.AdamW(model.parameters(), lr=0.0005, weight_decay=1e-5) for model in models]\n"
      ],
      "metadata": {
        "id": "QYVSbrSOfBXe"
      },
      "execution_count": 11,
      "outputs": []
    },
    {
      "cell_type": "code",
      "source": [
        "# Training Process\n",
        "NUM_ROUNDS = 100\n",
        "train_loss = []\n",
        "\n",
        "for round_num in range(NUM_ROUNDS):\n",
        "    round_loss = 0.0\n",
        "    for i, model in enumerate(models):\n",
        "        optimizer = optimizers[i]\n",
        "        optimizer.zero_grad()\n",
        "\n",
        "        inputs, targets = client_datasets[i]\n",
        "        outputs = model(inputs).squeeze()\n",
        "        loss = nn.CrossEntropyLoss()(outputs, targets)\n",
        "        loss.backward()\n",
        "        optimizer.step()\n",
        "\n",
        "        round_loss += loss.item()\n",
        "\n",
        "    train_loss.append(round_loss / num_clients)\n",
        "    print(f\"Round {round_num + 1}, Loss: {train_loss[-1]:.4f}\")\n"
      ],
      "metadata": {
        "colab": {
          "base_uri": "https://localhost:8080/"
        },
        "id": "sVcrLQkDfFk8",
        "outputId": "9a183407-54de-4e7f-a681-5ca5ebb9b3f0"
      },
      "execution_count": 12,
      "outputs": [
        {
          "output_type": "stream",
          "name": "stdout",
          "text": [
            "Round 1, Loss: 0.6936\n",
            "Round 2, Loss: 0.6924\n",
            "Round 3, Loss: 0.6913\n",
            "Round 4, Loss: 0.6900\n",
            "Round 5, Loss: 0.6891\n",
            "Round 6, Loss: 0.6880\n",
            "Round 7, Loss: 0.6870\n",
            "Round 8, Loss: 0.6860\n",
            "Round 9, Loss: 0.6852\n",
            "Round 10, Loss: 0.6842\n",
            "Round 11, Loss: 0.6834\n",
            "Round 12, Loss: 0.6823\n",
            "Round 13, Loss: 0.6813\n",
            "Round 14, Loss: 0.6803\n",
            "Round 15, Loss: 0.6795\n",
            "Round 16, Loss: 0.6787\n",
            "Round 17, Loss: 0.6775\n",
            "Round 18, Loss: 0.6766\n",
            "Round 19, Loss: 0.6754\n",
            "Round 20, Loss: 0.6745\n",
            "Round 21, Loss: 0.6735\n",
            "Round 22, Loss: 0.6724\n",
            "Round 23, Loss: 0.6713\n",
            "Round 24, Loss: 0.6700\n",
            "Round 25, Loss: 0.6688\n",
            "Round 26, Loss: 0.6674\n",
            "Round 27, Loss: 0.6660\n",
            "Round 28, Loss: 0.6643\n",
            "Round 29, Loss: 0.6622\n",
            "Round 30, Loss: 0.6606\n",
            "Round 31, Loss: 0.6579\n",
            "Round 32, Loss: 0.6555\n",
            "Round 33, Loss: 0.6531\n",
            "Round 34, Loss: 0.6501\n",
            "Round 35, Loss: 0.6472\n",
            "Round 36, Loss: 0.6434\n",
            "Round 37, Loss: 0.6403\n",
            "Round 38, Loss: 0.6366\n",
            "Round 39, Loss: 0.6322\n",
            "Round 40, Loss: 0.6275\n",
            "Round 41, Loss: 0.6227\n",
            "Round 42, Loss: 0.6174\n",
            "Round 43, Loss: 0.6124\n",
            "Round 44, Loss: 0.6058\n",
            "Round 45, Loss: 0.6001\n",
            "Round 46, Loss: 0.5940\n",
            "Round 47, Loss: 0.5864\n",
            "Round 48, Loss: 0.5786\n",
            "Round 49, Loss: 0.5718\n",
            "Round 50, Loss: 0.5630\n",
            "Round 51, Loss: 0.5538\n",
            "Round 52, Loss: 0.5466\n",
            "Round 53, Loss: 0.5367\n",
            "Round 54, Loss: 0.5272\n",
            "Round 55, Loss: 0.5171\n",
            "Round 56, Loss: 0.5084\n",
            "Round 57, Loss: 0.4978\n",
            "Round 58, Loss: 0.4871\n",
            "Round 59, Loss: 0.4771\n",
            "Round 60, Loss: 0.4652\n",
            "Round 61, Loss: 0.4564\n",
            "Round 62, Loss: 0.4457\n",
            "Round 63, Loss: 0.4361\n",
            "Round 64, Loss: 0.4269\n",
            "Round 65, Loss: 0.4168\n",
            "Round 66, Loss: 0.4073\n",
            "Round 67, Loss: 0.3986\n",
            "Round 68, Loss: 0.3889\n",
            "Round 69, Loss: 0.3793\n",
            "Round 70, Loss: 0.3696\n",
            "Round 71, Loss: 0.3637\n",
            "Round 72, Loss: 0.3557\n",
            "Round 73, Loss: 0.3476\n",
            "Round 74, Loss: 0.3407\n",
            "Round 75, Loss: 0.3339\n",
            "Round 76, Loss: 0.3282\n",
            "Round 77, Loss: 0.3226\n",
            "Round 78, Loss: 0.3163\n",
            "Round 79, Loss: 0.3106\n",
            "Round 80, Loss: 0.3024\n",
            "Round 81, Loss: 0.3000\n",
            "Round 82, Loss: 0.2938\n",
            "Round 83, Loss: 0.2890\n",
            "Round 84, Loss: 0.2864\n",
            "Round 85, Loss: 0.2831\n",
            "Round 86, Loss: 0.2782\n",
            "Round 87, Loss: 0.2758\n",
            "Round 88, Loss: 0.2736\n",
            "Round 89, Loss: 0.2744\n",
            "Round 90, Loss: 0.2683\n",
            "Round 91, Loss: 0.2667\n",
            "Round 92, Loss: 0.2637\n",
            "Round 93, Loss: 0.2641\n",
            "Round 94, Loss: 0.2615\n",
            "Round 95, Loss: 0.2582\n",
            "Round 96, Loss: 0.2572\n",
            "Round 97, Loss: 0.2546\n",
            "Round 98, Loss: 0.2529\n",
            "Round 99, Loss: 0.2496\n",
            "Round 100, Loss: 0.2530\n"
          ]
        }
      ]
    },
    {
      "cell_type": "code",
      "source": [
        "# Plot training loss\n",
        "plt.figure(figsize=(10, 5))\n",
        "plt.plot(range(1, NUM_ROUNDS + 1), train_loss, marker='o')\n",
        "plt.title('Federated GRU Training Loss (Job Switching)')\n",
        "plt.xlabel('Rounds')\n",
        "plt.ylabel('Loss')\n",
        "plt.grid(True)\n",
        "plt.show()\n"
      ],
      "metadata": {
        "colab": {
          "base_uri": "https://localhost:8080/",
          "height": 487
        },
        "id": "iemhFNjafRAp",
        "outputId": "b36dbdaa-d34d-427d-974f-a30e0f368039"
      },
      "execution_count": 13,
      "outputs": [
        {
          "output_type": "display_data",
          "data": {
            "text/plain": [
              "<Figure size 1000x500 with 1 Axes>"
            ],
            "image/png": "[encoded data removed]"
          },
          "metadata": {}
        }
      ]
    },
    {
      "cell_type": "code",
      "source": [
        "# Model Evaluation\n",
        "all_predictions = []\n",
        "all_labels = []\n",
        "\n",
        "for i, model in enumerate(models):\n",
        "    inputs, targets = client_datasets[i]\n",
        "    outputs = model(inputs)\n",
        "    predictions = torch.argmax(outputs, dim=1)\n",
        "    all_predictions.extend(predictions.tolist())\n",
        "    all_labels.extend(targets.tolist())"
      ],
      "metadata": {
        "id": "pgI8-kgXfjD0"
      },
      "execution_count": 14,
      "outputs": []
    },
    {
      "cell_type": "code",
      "source": [
        "# Calculate Metrics\n",
        "accuracy = accuracy_score(all_labels, all_predictions)\n",
        "precision = precision_score(all_labels, all_predictions, average='weighted')\n",
        "recall = recall_score(all_labels, all_predictions, average='weighted')\n",
        "f1 = f1_score(all_labels, all_predictions, average='weighted')\n",
        "\n",
        "print(f\"Accuracy: {accuracy:.4f}\")\n",
        "print(f\"Precision: {precision:.4f}\")\n",
        "print(f\"Recall: {recall:.4f}\")\n",
        "print(f\"F1-Score: {f1:.4f}\")\n"
      ],
      "metadata": {
        "id": "3xkb2G0zfmgM",
        "outputId": "0568e8dc-6202-48ff-fd06-c0d057839a3f",
        "colab": {
          "base_uri": "https://localhost:8080/"
        }
      },
      "execution_count": 15,
      "outputs": [
        {
          "output_type": "stream",
          "name": "stdout",
          "text": [
            "Accuracy: 0.8985\n",
            "Precision: 0.8991\n",
            "Recall: 0.8985\n",
            "F1-Score: 0.8987\n"
          ]
        }
      ]
    },
    {
      "cell_type": "code",
      "source": [
        "# Generate Confusion Matrix\n",
        "cm = confusion_matrix(all_labels, all_predictions)\n",
        "ConfusionMatrixDisplay(cm).plot(cmap='Blues')\n",
        "plt.title('Confusion Matrix')\n",
        "plt.figtext(0.5, -0.1, 'Figure: Confusion matrix for GRU',\n",
        "            wrap=True, horizontalalignment='center', fontsize=10)\n",
        "plt.show()"
      ],
      "metadata": {
        "colab": {
          "base_uri": "https://localhost:8080/",
          "height": 532
        },
        "id": "pnULDGxgK0i2",
        "outputId": "c6d30fd6-3370-45f9-ca33-be6ec0d5b758"
      },
      "execution_count": 16,
      "outputs": [
        {
          "output_type": "display_data",
          "data": {
            "text/plain": [
              "<Figure size 640x480 with 2 Axes>"
            ],
            "image/png": "[encoded data removed]"
          },
          "metadata": {}
        }
      ]
    }
  ]
}